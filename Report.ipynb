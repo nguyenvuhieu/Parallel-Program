{
  "nbformat": 4,
  "nbformat_minor": 0,
  "metadata": {
    "colab": {
      "provenance": [],
      "collapsed_sections": [
        "j2n-WRmbC9yY",
        "NKuafmH-M9WB",
        "MTQONizgOxOd"
      ],
      "toc_visible": true
    },
    "kernelspec": {
      "name": "python3",
      "display_name": "Python 3"
    },
    "language_info": {
      "name": "python"
    }
  },
  "cells": [
    {
      "cell_type": "markdown",
      "source": [
        "**Báo cáo đồ án cuối kỳ**\n",
        "--\n",
        "\n",
        "**Lập trình song song**\n",
        "--\n",
        "\n",
        "---\n",
        "\n",
        "\n",
        "**Tối ưu hóa lớp convolution trong mô hình Lenet-5**"
      ],
      "metadata": {
        "id": "YafUz8mh7PS3"
      }
    },
    {
      "cell_type": "markdown",
      "source": [
        "**Thông tinh nhóm**\n",
        "--\n",
        "\n",
        "---\n",
        "\n",
        "1920266 - Nguyễn Hoàng Anh Kiệt\n",
        "\n",
        "20120478 - Nguyễn Vũ Hiếu\n",
        "\n",
        "20120556 - Văn Đình Minh Quân\n"
      ],
      "metadata": {
        "id": "CcnGAFQDCRn3"
      }
    },
    {
      "cell_type": "markdown",
      "source": [
        "# Giới thiệu đồ án"
      ],
      "metadata": {
        "id": "W0XhIuvbC6xi"
      }
    },
    {
      "cell_type": "markdown",
      "source": [
        "## Đồ án tối ưu hóa Lenet-5"
      ],
      "metadata": {
        "id": "j2n-WRmbC9yY"
      }
    },
    {
      "cell_type": "markdown",
      "source": [
        "- Dựa trên mô hình dnn-mini để xây dựng mô hình Lenet-5 tuần tự chạy trên CPU\n",
        "\n",
        "Link mô hình dnn-mini\n",
        "```\n",
        "https://github.com/iamhankai/mini-dnn-cpp\n",
        "```\n",
        "- Từ ý tưởng ban đầu nhóm em xây dựng mô hình tối ưu hóa với các cải tiến làm tăng tốc độ thời gian làm giảm quá trình tạo ra mô hình.\n",
        "\n",
        "- Với việc song song lớp convolution trong 2 lớp của Lenet-5 và mở rộng hơn sẽ là sử dụng các kiến thức học được để tối ưu cài đặt song song hiệu quả\n",
        "\n",
        "\n",
        "\n",
        "\n"
      ],
      "metadata": {
        "id": "LPAcLTvvD-Cq"
      }
    },
    {
      "cell_type": "markdown",
      "source": [
        "## Động lực thực hiện"
      ],
      "metadata": {
        "id": "40409h91GF9Y"
      }
    },
    {
      "cell_type": "markdown",
      "source": [
        "- Việc sử dụng AI trong cuộc sống dần trở nên phổ biết đòi hỏi yêu cầu giữa các mô hình phải chính xác và nhanh chóng\n",
        "- Vì vậy yêu cầu việc cải tiến mô hình sao cho nhanh chóng và chính xác trở nên cần thiết để giảm thời gian train cũng như giảm chi phí xây dựng.\n",
        "- Việc song song và tối ưu sẽ làm giảm rất nhiều thời gian khi xây dựng mô hình"
      ],
      "metadata": {
        "id": "aaakTxQdGVHg"
      }
    },
    {
      "cell_type": "markdown",
      "source": [
        "## Tổng quan đóng góp"
      ],
      "metadata": {
        "id": "l3owL6cHHrYp"
      }
    },
    {
      "cell_type": "markdown",
      "source": [
        " - Đánh gia công việc của các thành viên trong nhóm"
      ],
      "metadata": {
        "id": "00zRnx_J3kU4"
      }
    },
    {
      "cell_type": "markdown",
      "source": [
        "| Công việc                                | Người thực hiện | Đánh giá mức độ hoàn thành |\n",
        "|------------------------------------------|-----------------|-----------------------------|\n",
        "| Xây dựng framework Lenet 5 |20120478-Nguyễn Vũ Hiếu, 20120556-Văn Đình Minh Quân |100%             |\n",
        "| Code tuần tự | 20120556-Văn Đình Minh Quân |100%           |\n",
        "| Code song song cơ bản  |20120478-Nguyễn Vũ Hiếu|100%              |\n",
        "| Tối ưu ver 2   |20120478-Nguyễn Vũ Hiếu |100%         |\n",
        "| Tối ưu ver 3   |20120556-Văn Đình Minh Quân |100%         |\n",
        "| Tối ưu ver 4  |20120556-Văn Đình Minh Quân, 20120478-Nguyễn Vũ Hiếu|100%|\n",
        "| Viết báo cáo  |20120556-Văn Đình Minh Quân|100%             |\n",
        "| Viết readme|20120478-Nguyễn Vũ Hiếu|100%    |               \n"
      ],
      "metadata": {
        "id": "Vbgnmp8y3axe"
      }
    },
    {
      "cell_type": "markdown",
      "source": [
        "# Mô hình song song hóa"
      ],
      "metadata": {
        "id": "kaUOTispIB_C"
      }
    },
    {
      "cell_type": "markdown",
      "source": [
        "## Input và Output\n",
        "\n",
        "\n"
      ],
      "metadata": {
        "id": "NKuafmH-M9WB"
      }
    },
    {
      "cell_type": "markdown",
      "source": [
        "### Input"
      ],
      "metadata": {
        "id": "MTQONizgOxOd"
      }
    },
    {
      "cell_type": "markdown",
      "source": [
        "- Đầu vào của mô hình Lenet-5 sẽ là một tập dữ liệu ảnh với kích thước 32 * 32\n",
        "tuy nhiên sử dụng bộ dữ liệu của Fashion nên đầu sẽ là ảnh 28 * 28\n",
        "- Bộ dữ liệu trong hình đã được trải phẳng vậy nên đầu vào của mô hình sẽ là một ma trận với cột sẽ là số lượng mẫu và số lượng dòng sẽ biểu thị cho hình ảnh đã được trải phẳng vậy nên ma trận dầu vào sẽ là (n_sample * (28 * 28 ))\n"
      ],
      "metadata": {
        "id": "4ZES5NesNLox"
      }
    },
    {
      "cell_type": "markdown",
      "source": [
        "### Output"
      ],
      "metadata": {
        "id": "IV9qlo4wQmoK"
      }
    },
    {
      "cell_type": "markdown",
      "source": [
        "- Đổi với Lenet - 5 thì với ma trận đầu vào là một ma trận thì khi qua mô hinh sẽ được trải phẳng và thành một vector chứa các giá trị đặc trưng tuy nhiên với đồ án này ta chỉ chú trọng vào đầu ra của lớp convolution.\n",
        "- Với mỗi ảnh sẽ được áp 1 filter 5 * 5 để giảm kích thước.\n",
        "- Với lớp đầu tiên với 1 ảnh 28 * 28 đầu ra sẽ tạo ra 6 hình với kích thước 24*24 và hình ảnh này cũng sẽ được trải phẳng trong dữ liệu như dữ liệu ban đầu.\n",
        "- Với lớp thứ convolution thứ 2 thì với 6 ảnh được tạo từ lớp convolution ban đầu sẽ tạo ra được 16 ảnh với kích thước 8 * 8 để phù hợp với đầu vào của các lớp sau.\n"
      ],
      "metadata": {
        "id": "jMcVh24AQxAX"
      }
    },
    {
      "cell_type": "markdown",
      "source": [
        "## Kết nối với drive format"
      ],
      "metadata": {
        "id": "ZlkjJQhtVYDh"
      }
    },
    {
      "cell_type": "code",
      "source": [
        "from google.colab import drive\n",
        "drive.mount('/content/drive')"
      ],
      "metadata": {
        "colab": {
          "base_uri": "https://localhost:8080/"
        },
        "id": "P79NhYthUtXJ",
        "outputId": "bfe83574-2a45-4e7a-a020-29a569c1d2fa"
      },
      "execution_count": 1,
      "outputs": [
        {
          "output_type": "stream",
          "name": "stdout",
          "text": [
            "Mounted at /content/drive\n"
          ]
        }
      ]
    },
    {
      "cell_type": "code",
      "source": [
        "%cd /content/drive/MyDrive/LTSS/Doancuoiki/lenet5_cnn_cky"
      ],
      "metadata": {
        "colab": {
          "base_uri": "https://localhost:8080/"
        },
        "id": "FpLTf_H4VMNK",
        "outputId": "6b4a2fe4-8d03-4274-fb2d-bfe90f853747"
      },
      "execution_count": 2,
      "outputs": [
        {
          "output_type": "stream",
          "name": "stdout",
          "text": [
            "/content/drive/MyDrive/LTSS/Doancuoiki/lenet5_cnn_cky\n"
          ]
        }
      ]
    },
    {
      "cell_type": "markdown",
      "source": [
        "## Tính đúng đắn khi thực nghiệm"
      ],
      "metadata": {
        "id": "3uXYt_uTTGWn"
      }
    },
    {
      "cell_type": "markdown",
      "source": [
        " - Việc đúng đắn khi thực nghiệm là một việc khá là quan trọng.Vì vậy nhóm chúng em sẽ lấy các lớp có sẵn của mô hình dnn-mini để tạo mô hình Lenet-5 và tính giá trị accuracy của mô hình này.\n",
        " - Tất cả các mô hình sẽ sử dụng chung giá trị weight đã được train cpu từ mô hình chuẩn ban đầu.Khi đó mô hình đúng khi giá trị accuracy giống với mô hình chuẩn ban đầu."
      ],
      "metadata": {
        "id": "8YIq5AetTLBZ"
      }
    },
    {
      "cell_type": "markdown",
      "source": [
        "### Chạy mô hình chuẩn ban đầu"
      ],
      "metadata": {
        "id": "vKnNb254Vmmk"
      }
    },
    {
      "cell_type": "code",
      "source": [
        "!make run"
      ],
      "metadata": {
        "colab": {
          "base_uri": "https://localhost:8080/"
        },
        "id": "vkIpf7hCVQeF",
        "outputId": "b1b38029-cc5d-41f8-bfbc-a3bbdf5d4ba1"
      },
      "execution_count": 3,
      "outputs": [
        {
          "output_type": "stream",
          "name": "stdout",
          "text": [
            "nvcc --compile src/layer/custom/cpu-forward.cc -o src/layer/custom/cpu-forward.o -I ../libgputk/ -I./\n",
            "nvcc --compile src/layer/custom/gpu-utils.cu -o src/layer/custom/gpu-utils.o -I ../libgputk/ -I./\n",
            "nvcc --compile src/layer/custom/Parallel_v1.cu -o src/layer/custom/Parallel_v1.o -I ../libgputk/ -I./\n",
            "nvcc -o cpu -lm -lcuda -lrt cpu.o network_init.o src/network.o src/mnist.o src/layer/*.o src/loss/*.o src/layer/custom/cpu-forward.o src/layer/custom/Parallel_v1.o src/layer/custom/gpu-utils.o -I ../libgputk/ -I./\n",
            "./cpu 1000\n",
            "Test batch size: 1000\n",
            "Loading fashion-mnist data...Done\n",
            "Loading model...Done\n",
            "Conv-CPU==\n",
            "Op Time: 17171.8 ms\n",
            "Conv-CPU==\n",
            "Op Time: 50239.7 ms\n",
            "\n",
            "Test Accuracy: 0.886\n",
            "\n"
          ]
        }
      ]
    },
    {
      "cell_type": "markdown",
      "source": [
        "## Mô hình tuần tự"
      ],
      "metadata": {
        "id": "w91ThHOnY6YT"
      }
    },
    {
      "cell_type": "markdown",
      "source": [
        "### Flow thiết kế"
      ],
      "metadata": {
        "id": "F2UjaAiqWGG-"
      }
    },
    {
      "cell_type": "markdown",
      "source": [
        "- Để thuận tiện cho việc song song hóa nhóm em đã cài lại mô hình tuần tự thay vì sử dụng lớp forward của dnn-mini\n",
        "- Ý tưởng cho mô hình tuần tự này là dựa trên ý tưởng của Lab02 đã làm.\n",
        "- Tổng cộng, đoạn mã này tính toán giá trị của ma trận đầu ra thông qua việc áp dụng phép tích chập giữa ma trận đầu vào và kernel. Các vòng lặp duyệt qua các batch, kênh, chiều cao và chiều rộng của ma trận đầu ra để tính toán giá trị của từng phần tử."
      ],
      "metadata": {
        "id": "lDsVcL-RWaNp"
      }
    },
    {
      "cell_type": "markdown",
      "source": [
        "### Flow thực nghiệm"
      ],
      "metadata": {
        "id": "x8C5GxUaZKQ1"
      }
    },
    {
      "cell_type": "markdown",
      "source": [
        "- Vòng lặp for (int b = 0; b < B; b++): Duyệt qua các batch trong dữ liệu đầu vào.\n",
        "- Vòng lặp for (int m = 0; m < M; m++): Duyệt qua các kênh (hoặc feature maps) trong ma trận đầu ra.\n",
        "- Vòng lặp for (int h = 0; h < H_out; h++) và for (int w = 0; w < W_out; w++): Duyệt qua chiều cao và chiều rộng của ma trận đầu ra.\n",
        "- Gán giá trị ban đầu của phần tử tại vị trí (b, m, h, w) trong ma trận đầu ra bằng 0. y4d(b, m, h, w) = 0;\n",
        "\n",
        "- Vòng lặp for (int c = 0; c < C; c++): Duyệt qua các kênh trong ma trận đầu vào (x4d).\n",
        "- Vòng lặp lồng nhau của p và q sẽ duyệt qua filter cần để áp vào ảnh\n",
        "\n",
        "- Tại mỗi vị trí (b, m, h, w) của ma trận đầu ra, tính tổng giá trị là tích của phần tương ứng trong ma trận đầu vào với kernel."
      ],
      "metadata": {
        "id": "gT0K4wGbZm82"
      }
    },
    {
      "cell_type": "markdown",
      "source": [
        "### Tốc độ thực thi và tính đúng đắn"
      ],
      "metadata": {
        "id": "qkYWAOxoaQbf"
      }
    },
    {
      "cell_type": "code",
      "source": [
        "!make run"
      ],
      "metadata": {
        "colab": {
          "base_uri": "https://localhost:8080/"
        },
        "id": "zLXhUMSvajI4",
        "outputId": "bd3d6e70-a534-4ef4-9bf6-c78c147a49b9"
      },
      "execution_count": 4,
      "outputs": [
        {
          "output_type": "stream",
          "name": "stdout",
          "text": [
            "nvcc --compile src/layer/custom/cpu-forward.cc -o src/layer/custom/cpu-forward.o -I ../libgputk/ -I./\n",
            "nvcc --compile src/layer/custom/gpu-utils.cu -o src/layer/custom/gpu-utils.o -I ../libgputk/ -I./\n",
            "nvcc --compile src/layer/custom/Parallel_v1.cu -o src/layer/custom/Parallel_v1.o -I ../libgputk/ -I./\n",
            "nvcc -o cpu -lm -lcuda -lrt cpu.o network_init.o src/network.o src/mnist.o src/layer/*.o src/loss/*.o src/layer/custom/cpu-forward.o src/layer/custom/Parallel_v1.o src/layer/custom/gpu-utils.o -I ../libgputk/ -I./\n",
            "./cpu 1000\n",
            "Test batch size: 1000\n",
            "Loading fashion-mnist data...Done\n",
            "Loading model...Done\n",
            "Conv-CPU==\n",
            "Op Time: 18517.3 ms\n",
            "Conv-CPU==\n",
            "Op Time: 48675.7 ms\n",
            "\n",
            "Test Accuracy: 0.886\n",
            "\n"
          ]
        }
      ]
    },
    {
      "cell_type": "markdown",
      "source": [
        "#### Thời gian thực thi"
      ],
      "metadata": {
        "id": "d5A6U9whbA8C"
      }
    },
    {
      "cell_type": "markdown",
      "source": [
        "- Như hình đã chạy thời gian để thực thi trên 1000 mẫu khá là lớn cụ thể là :\n",
        "  - Với lớp convolution thứ nhất thời gian thực thi là : 16416.9 ms\n",
        "  - Với lớp thứ hai thì thời gian thực thi là : 47857.7 ms"
      ],
      "metadata": {
        "id": "p-ppF6PMbE_T"
      }
    },
    {
      "cell_type": "markdown",
      "source": [
        "#### Tính đúng đắn"
      ],
      "metadata": {
        "id": "e7WtBks8b9Ly"
      }
    },
    {
      "cell_type": "markdown",
      "source": [
        "- Như đã để cập ở trên thì tính đúng đắn sẽ dựa vào giá trị accuracy để so sánh.\n",
        "- Với mô hình dưới thì giá trị Accuracy sẽ là 0.886 và giống với mô hình chuẩn ban đầu."
      ],
      "metadata": {
        "id": "g5lut7dncFwy"
      }
    },
    {
      "cell_type": "markdown",
      "source": [
        "#### Kết quả"
      ],
      "metadata": {
        "id": "XiGx7jKpcs0s"
      }
    },
    {
      "cell_type": "markdown",
      "source": [
        "- Với những giá trị thực nghiệm có được cho thấy mô hình Conv tuần tự sau khi custom cho ra kết quả là chính xác.\n",
        "- Tuy nhiên vẫn còn hạn chế về thời gian"
      ],
      "metadata": {
        "id": "h37nMr2jcvdM"
      }
    },
    {
      "cell_type": "markdown",
      "source": [
        "## Mô hình song song"
      ],
      "metadata": {
        "id": "RQKXL0gndI-L"
      }
    },
    {
      "cell_type": "markdown",
      "source": [
        "### Convolution song song cơ bản"
      ],
      "metadata": {
        "id": "0qqOxWZZdO2y"
      }
    },
    {
      "cell_type": "markdown",
      "source": [
        "#### Ý tưởng song song"
      ],
      "metadata": {
        "id": "3gk2g4WSdVYC"
      }
    },
    {
      "cell_type": "markdown",
      "source": [
        "- Vì các hình khi scan sẽ không ảnh hưởng đến nhau và các hình đầu ra cũng vậy. Và với mỗi ô output khi tích chập sẽ không ảnh hưởng đến các ô khác và cách thực thi là tương tự nhau vậy nên chúng ta sẽ song song các giá trị này."
      ],
      "metadata": {
        "id": "4Tv-i19udeEq"
      }
    },
    {
      "cell_type": "markdown",
      "source": [
        "#### Thiết kế"
      ],
      "metadata": {
        "id": "kPNxJ2KvfkbP"
      }
    },
    {
      "cell_type": "markdown",
      "source": [
        "- Các giá trị b và m được sử dụng để xác định batch number và output feature tương ứng mà mỗi thread sẽ tính toán trong ma trận đầu ra.\n",
        "- Và song song việc lặp từng ô trong output và tính toán giá trị trong đó.\n",
        "- Với mỗi threadId sẽ thực hiện tích chập và kết quả sẽ được là giá trị ô output tương ứng với threadId"
      ],
      "metadata": {
        "id": "Mo3hFX6YgElP"
      }
    },
    {
      "cell_type": "markdown",
      "source": [
        "#### Thực thi chương trình"
      ],
      "metadata": {
        "id": "3TSDDUYtiiMl"
      }
    },
    {
      "cell_type": "code",
      "source": [
        "!make run_v1"
      ],
      "metadata": {
        "colab": {
          "base_uri": "https://localhost:8080/"
        },
        "id": "Oy_B3PUSiWm1",
        "outputId": "c6069f8c-81ed-4db8-f413-f54bb92f3df5"
      },
      "execution_count": 5,
      "outputs": [
        {
          "output_type": "stream",
          "name": "stdout",
          "text": [
            "nvcc --compile src/layer/custom/gpu-utils.cu -o src/layer/custom/gpu-utils.o -I ../libgputk/ -I./\n",
            "nvcc --compile src/layer/custom/Parallel_v1.cu -o src/layer/custom/Parallel_v1.o -I ../libgputk/ -I./\n",
            "nvcc -o parallel_v1 -lm -lcuda -lrt parallel_v1.o network_init.o src/network.o src/mnist.o src/layer/*.o src/loss/*.o src/layer/custom/Parallel_v1.o src/layer/custom/gpu-utils.o src/layer/custom/cpu-forward.o -I ../libgputk/ -I./\n",
            "./parallel_v1 1000\n",
            "Test batch size: 1000\n",
            "Loading fashion-mnist data...Done\n",
            "Loading model...Done\n",
            "Conv-GPU==\n",
            "Error: src/layer/custom/Parallel_v1.cu:115, code: 35, reason: CUDA driver version is insufficient for CUDA runtime version\n",
            "make: *** [Makefile:56: run_v1] Error 1\n"
          ]
        }
      ]
    },
    {
      "cell_type": "markdown",
      "source": [
        "#####  Thời gian thực thi"
      ],
      "metadata": {
        "id": "ddCp1P_cjRQc"
      }
    },
    {
      "cell_type": "markdown",
      "source": [
        "- Như hình đã chạy thời gian để thực thi trên 1000 mẫu đã được cải thiện  cụ thể là :\n",
        "  - Với lớp convolution thứ nhất thời gian thực thi là :\n",
        "  - Với lớp thứ hai thì thời gian thực thi là :\n",
        "\n",
        "\n",
        "- Việc chạy nhanh hơn so với mô hình tuần tự là thay vì lần lượt lặp qua từng ô output để tích chập thì với mô hình song song các ô sẽ được làm cùng lúc từ đó thời gian hiệu quả cao hơn."
      ],
      "metadata": {
        "id": "I-PY6Zssjbmt"
      }
    },
    {
      "cell_type": "markdown",
      "source": [
        "##### Tính đúng đắn"
      ],
      "metadata": {
        "id": "UYXBAQbrkFqV"
      }
    },
    {
      "cell_type": "markdown",
      "source": [
        "- Như đã để cập ở trên thì tính đúng đắn sẽ dựa vào giá trị accuracy để so sánh.\n",
        "- Với mô hình dưới thì giá trị Accuracy sẽ là 0.886 và giống với mô hình chuẩn ban đầu."
      ],
      "metadata": {
        "id": "dpsAMH9okRof"
      }
    },
    {
      "cell_type": "markdown",
      "source": [
        "##### Kết quả"
      ],
      "metadata": {
        "id": "-Yq7h4IPk3G7"
      }
    },
    {
      "cell_type": "markdown",
      "source": [
        "- Với mô hình trên thời gian chạy đã được tối ưu hơn so với bản ban đầu và vẫn giữ được kết quả đúng so với bản gốc."
      ],
      "metadata": {
        "id": "6zj2xKIsk5qE"
      }
    },
    {
      "cell_type": "markdown",
      "source": [
        "### Mô hình tối ưu so với bản song song cơ bản"
      ],
      "metadata": {
        "id": "snTvl7x8lIHK"
      }
    },
    {
      "cell_type": "markdown",
      "source": [
        "#### Mô hình tối ưu bằng cách thêm automicAdd"
      ],
      "metadata": {
        "id": "WYt9YX8NlR6U"
      }
    },
    {
      "cell_type": "markdown",
      "source": [
        "##### Ý tưởng"
      ],
      "metadata": {
        "id": "JpCx1_H6lpB1"
      }
    },
    {
      "cell_type": "markdown",
      "source": [
        "- Nhận thấy các giá trị trong phiên bản trước cần phải cộng các giá trị sau đó mới gán cho ô giá trị đầu ra.\n",
        "- Vậy nên thay vì như vậy thì với bản v2 bọn em sẽ dùng AutomicAdd để làm tăng hiệu suất thay vì việc phải đợi công tất cả giá trị rồi mới gán.\n",
        "- Ngoài ra việc AutomicAdd sẽ tránh việc chồng chéo dữ liệu."
      ],
      "metadata": {
        "id": "DRTvrp2Cluc4"
      }
    },
    {
      "cell_type": "markdown",
      "source": [
        "##### Flow thiết kế và mô tả kĩ thuật"
      ],
      "metadata": {
        "id": "ubKJDoYQpiZk"
      }
    },
    {
      "cell_type": "markdown",
      "source": [
        "- Tương tự so với bản v1 thì bản v2 này chỉ cần thêm automicadd sau vòng khi duyệt các Filter\n",
        "\n",
        "```\n",
        "     if (h < H_out && w < W_out) {\n",
        "        float acc = 0;\n",
        "            for (int p = 0; p < K; p++) {\n",
        "              for (int q = 0; q < K; q++) {\n",
        "                 acc += x4d(b, c, h + p, w + q) * k4d(m, c, p, q);\n",
        "              }\n",
        "            }\n",
        "        atomicAdd(( &y4d(b, m, h, w)), acc);\n",
        "     }\n",
        "```\n",
        "\n"
      ],
      "metadata": {
        "id": "HURvkof5qOAO"
      }
    },
    {
      "cell_type": "markdown",
      "source": [
        "##### Thực thi chương trình"
      ],
      "metadata": {
        "id": "oGWNilrrq-OC"
      }
    },
    {
      "cell_type": "code",
      "source": [
        "!make run_v2"
      ],
      "metadata": {
        "colab": {
          "base_uri": "https://localhost:8080/"
        },
        "id": "E9L0aLqcrYsp",
        "outputId": "19cdccdd-dff1-451b-99c7-cb86f4105953"
      },
      "execution_count": 6,
      "outputs": [
        {
          "output_type": "stream",
          "name": "stdout",
          "text": [
            "nvcc --compile src/layer/custom/gpu-utils.cu -o src/layer/custom/gpu-utils.o -I ../libgputk/ -I./\n",
            "nvcc --compile src/layer/custom/Parallel_v2.cu -o src/layer/custom/Parallel_v2.o -I ../libgputk/ -I./\n",
            "nvcc -o parallel_v2 -lm -lcuda -lrt parallel_v2.o network_init.o src/network.o src/mnist.o src/layer/*.o src/loss/*.o src/layer/custom/Parallel_v2.o src/layer/custom/gpu-utils.o src/layer/custom/cpu-forward.o -I ../libgputk/ -I./\n",
            "./parallel_v2 1000\n",
            "Test batch size: 1000\n",
            "Loading fashion-mnist data...Done\n",
            "Loading model...Done\n",
            "Conv-GPU==\n",
            "Error: src/layer/custom/Parallel_v2.cu:119, code: 35, reason: CUDA driver version is insufficient for CUDA runtime version\n",
            "make: *** [Makefile:70: run_v2] Error 1\n"
          ]
        }
      ]
    },
    {
      "cell_type": "markdown",
      "source": [
        " **Thời gian thực thi**\n",
        "\n",
        "- Như hình đã chạy thời gian để thực thi trên 1000 mẫu đã được cải thiện cụ thể là :\n",
        "    - Với lớp convolution thứ nhất thời gian thực thi là :\n",
        "    \n",
        "    - Với lớp thứ hai thì thời gian thực thi là :\n",
        "\n",
        "**Tính đúng đắn**\n",
        "- Tương tự với ở trên với 1000 mẫu thì giá trị accuracy là 0.886 và tương ứng với giá trị ban đầu.\n",
        "\n",
        "**Kết quả**\n",
        "\n",
        "\n",
        "- Tuy là có cải tiến nhưng việc thêm automicAdd thì thời gian v2 vẫn tương tự như v2 vậy nên việc cải tiến này không ảnh hưởng nhiều đến việc tối ưu tốc độ chạy của chương trình\n",
        "\n"
      ],
      "metadata": {
        "id": "TD-bHf5Crgac"
      }
    },
    {
      "cell_type": "markdown",
      "source": [
        "#### Tối ưu mô hình cơ bản bằng cách sử dụng bộ nhớ constant"
      ],
      "metadata": {
        "id": "LdvXc9v_p9DM"
      }
    },
    {
      "cell_type": "markdown",
      "source": [
        "##### Ý tưởng"
      ],
      "metadata": {
        "id": "JvMwlEw0rfLR"
      }
    },
    {
      "cell_type": "markdown",
      "source": [
        "- Việc tích chập bằng mô hình Lenet-5 đòi hỏi việc di chuyển của các filter trên ảnh chính hay còn gọi là tính toán giữa Filter và ảnh là rất nhiều.\n",
        "\n",
        "- Nên việc sử dụng filter để lặp đi lặp lại các thao tác này là rất nhiều.\n",
        "\n",
        "- Do đó nhóm em đã đưa ra ý tưởng dùng bộ nhớ constant để lưu giá trị sử dụng nhiều lần và ở đây là filter"
      ],
      "metadata": {
        "id": "HxF6CEQTtAf_"
      }
    },
    {
      "cell_type": "markdown",
      "source": [
        "##### Flow thiết kế và mô tả kỹ thuật"
      ],
      "metadata": {
        "id": "RhB4ew7auA5m"
      }
    },
    {
      "cell_type": "markdown",
      "source": [
        "- Chúng ta sẽ khởi tạo thêm bộ nhớ constant và cấp phát bộ nhớ của constant đó dựa trên cấu trúc mà ta cần đưa vào ở đây là filter\n",
        "\n",
        "- Khởi tạo :\n",
        "\n",
        "\n",
        "```\n",
        "        __constant__ float kernelData[M_CONST * C_CONST * K_CONST * K_CONST];\n",
        "```\n",
        "\n",
        "- Cấp phát bộ nhớ :\n",
        "\n",
        "```\n",
        "        CHECK(cudaMemcpyToSymbol(kernelData, host_k, maskSize));\n",
        "```\n",
        "\n",
        "- Và code tương tự như các bản trước nhưng thay các k (filter) thành kernalData"
      ],
      "metadata": {
        "id": "N6n5PeJTuSTg"
      }
    },
    {
      "cell_type": "markdown",
      "source": [
        "##### Thực thi chương trình"
      ],
      "metadata": {
        "id": "0OGvuPLKv-DJ"
      }
    },
    {
      "cell_type": "code",
      "source": [
        "!make run_v3"
      ],
      "metadata": {
        "colab": {
          "base_uri": "https://localhost:8080/"
        },
        "id": "AMwAJDJ0wEII",
        "outputId": "b48187ca-d053-46d8-e10b-7481856ce311"
      },
      "execution_count": 7,
      "outputs": [
        {
          "output_type": "stream",
          "name": "stdout",
          "text": [
            "nvcc --compile src/layer/custom/gpu-utils.cu -o src/layer/custom/gpu-utils.o -I ../libgputk/ -I./\n",
            "nvcc --compile src/layer/custom/Parallel_v3.cu -o src/layer/custom/Parallel_v3.o -I ../libgputk/ -I./\n",
            "nvcc -o parallel_v3 -lm -lcuda -lrt parallel_v3.o network_init.o src/network.o src/mnist.o src/layer/*.o src/loss/*.o src/layer/custom/Parallel_v3.o src/layer/custom/gpu-utils.o src/layer/custom/cpu-forward.o -I ../libgputk/ -I./\n",
            "./parallel_v3 1000\n",
            "Test batch size: 1000\n",
            "Loading fashion-mnist data...Done\n",
            "Loading model...Done\n",
            "Conv-GPU==\n",
            "Error: src/layer/custom/Parallel_v3.cu:113, code: 35, reason: CUDA driver version is insufficient for CUDA runtime version\n",
            "make: *** [Makefile:84: run_v3] Error 1\n"
          ]
        }
      ]
    },
    {
      "cell_type": "markdown",
      "source": [
        "**Thời gian thực thi**\n",
        "\n",
        "- Như hình đã chạy thời gian để thực thi trên 1000 mẫu đã được cải thiện cụ thể là :\n",
        "    - Với lớp convolution thứ nhất thời gian thực thi là :\n",
        "\n",
        "    - Với lớp thứ hai thì thời gian thực thi là :\n",
        "\n",
        "**Tính đúng đắn**\n",
        "- Giá trị accuracy là 0.886 và giống với kết quả ban đầu.\n",
        "\n",
        "**Kết quả**\n",
        "- Việc cải tiến này làm cho thời gian thực thi trở nên nhanh chóng hơn khá nhiều so với bản v1 và v2."
      ],
      "metadata": {
        "id": "zKMke0p8wbfX"
      }
    },
    {
      "cell_type": "markdown",
      "source": [
        "#### Tối ưu hóa bằng cách cải tiến v3 ứng dụng"
      ],
      "metadata": {
        "id": "zn6jCnH7wlfn"
      }
    },
    {
      "cell_type": "markdown",
      "source": [
        "##### Ý tưởng"
      ],
      "metadata": {
        "id": "p8ousctX-1pf"
      }
    },
    {
      "cell_type": "markdown",
      "source": [
        "- Cảm thấy việc sử dụng ma trận đầu vào là quá nhiều , trong mô hình các bước nhảy của filter = 1 kéo theo việc sử dụng lại các ô input mà filter chạm sẽ làm tăng thời gian truy suất đến các ô đó.\n",
        "- Vậy nên để giảm thời gian nhóm em đã thêm version 4 để sử dụng share memory để lưu các block ma trận đầu vào làm giảm thời gian truy xuất các ô block cần sử dụng."
      ],
      "metadata": {
        "id": "0cyyejHP-4jZ"
      }
    },
    {
      "cell_type": "markdown",
      "source": [
        "##### Flow thiết kế và mô tả kỹ thuật"
      ],
      "metadata": {
        "id": "4B-pFmYABqBj"
      }
    },
    {
      "cell_type": "markdown",
      "source": [
        "- Với ý tưởng trên và version cũ nhóm chúng em đã thêm phân vùng share memory\n",
        "và format về matrix 4 chiều để dễ xử lý hơn\n",
        "\n",
        "\n",
        "```\n",
        "  extern __shared__ float X_s[];\n",
        "  #define smem(i2, i1, i0) X_s[(i2) * (INPUT_TILE_WIDTH * INPUT_TILE_WIDTH) + (i1) * INPUT_TILE_WIDTH + i0]\n",
        "\n",
        "```\n",
        "\n",
        "- Và vì thêm smem nên khi chạy chương trình ta cần cấp phát cho smem\n",
        "\n",
        "\n",
        "\n",
        "```\n",
        "    // smem_size\n",
        "    int smem_size = C * (TILE_WIDTH + K - 1) * (TILE_WIDTH + K - 1) * sizeof(float);\n",
        "    // Gọi hàm thêm phân vùng smem\n",
        "    conv_forward_kernel<<<gridSize, blockSize, smem_size>>>(device_y, device_x, device_k, B, M, C, H, W, K);\n",
        "```\n",
        "- Như vậy ta có thể sử dụng như là một input đầu vào thay thế cho mảng cũ lấy từ global.\n",
        "\n",
        "\n",
        "```\n",
        " if (h < H_out && w < W_out)\n",
        "    {\n",
        "        float sum = 0.0f;\n",
        "        for(int p=0; p<K; p++)         \n",
        "            for(int q=0; q<K; q++)\n",
        "                sum += smem(d, p+threadIdx.y, q+threadIdx.x) * k4d(m, d, p, q); // 4 dimensions macro resolve thread index\n",
        "        \n",
        "        atomicAdd((&y4d(b,m,h,w)), sum);\n",
        "    }\n",
        "\n",
        "```\n",
        "\n",
        "\n"
      ],
      "metadata": {
        "id": "UYxL5MN_BzTo"
      }
    },
    {
      "cell_type": "markdown",
      "source": [
        "##### Thực thi chương trình"
      ],
      "metadata": {
        "id": "TDChgM7xDSFb"
      }
    },
    {
      "cell_type": "code",
      "source": [
        "!make run_v4"
      ],
      "metadata": {
        "colab": {
          "base_uri": "https://localhost:8080/"
        },
        "id": "NV_WEYwODX7d",
        "outputId": "be1fc35d-f49b-4df0-cd37-706c47c8b084"
      },
      "execution_count": 8,
      "outputs": [
        {
          "output_type": "stream",
          "name": "stdout",
          "text": [
            "nvcc --compile src/layer/custom/gpu-utils.cu -o src/layer/custom/gpu-utils.o -I ../libgputk/ -I./\n",
            "nvcc --compile src/layer/custom/Parallel_v3.cu -o src/layer/custom/Parallel_v3.o -I ../libgputk/ -I./\n",
            "nvcc -o parallel_v3 -lm -lcuda -lrt parallel_v3.o network_init.o src/network.o src/mnist.o src/layer/*.o src/loss/*.o src/layer/custom/Parallel_v3.o src/layer/custom/gpu-utils.o src/layer/custom/cpu-forward.o -I ../libgputk/ -I./\n",
            "./parallel_v3 1000\n",
            "Test batch size: 1000\n",
            "Loading fashion-mnist data...Done\n",
            "Loading model...Done\n",
            "Conv-GPU==\n",
            "Error: src/layer/custom/Parallel_v3.cu:113, code: 35, reason: CUDA driver version is insufficient for CUDA runtime version\n",
            "make: *** [Makefile:84: run_v3] Error 1\n"
          ]
        }
      ]
    },
    {
      "cell_type": "markdown",
      "source": [
        "**Thời gian thực thi**\n",
        "\n",
        "- Như hình đã chạy thời gian để thực thi trên 1000 mẫu đã được cải thiện cụ thể là :\n",
        "    - Với lớp convolution thứ nhất thời gian thực thi là :\n",
        "\n",
        "    - Với lớp thứ hai thì thời gian thực thi là :\n",
        "\n",
        "**Tính đúng đắn**\n",
        "- Giá trị accuracy là 0.886 và giống với kết quả ban đầu.\n",
        "\n",
        "**Kết quả**\n",
        "- Việc cải tiến này có thể nói là bản tối ưu nhất trong các version tuy nhiên nó có thể chưa tối ưu trong nhiều trường hợp. Và đây chỉ là một vài cách tối ưu đơn giản ngoài ra còn rất nhiều cách để tối ưu giá trị hiệu quả."
      ],
      "metadata": {
        "id": "trpIxyfgDtVI"
      }
    },
    {
      "cell_type": "markdown",
      "source": [
        "### Tự đánh giá đồ án"
      ],
      "metadata": {
        "id": "6lMdU0FOES2t"
      }
    },
    {
      "cell_type": "markdown",
      "source": [
        "#### Những việc làm được"
      ],
      "metadata": {
        "id": "rUCPkP6AEXN1"
      }
    },
    {
      "cell_type": "markdown",
      "source": [
        "- Trong đồ án này nhóm chúng em làm được một vài điều\n",
        "   -  Hiểu rõ hơn về mô hình Lenet-5\n",
        "   -  Xây dựng forward convolution basic\n",
        "   -  Song song convolution basic\n",
        "   -  Tư mô hình song song basic thì có thêm việc tối ưu hóa mô hình song song đó sao cho hiệu quả .\n",
        "   "
      ],
      "metadata": {
        "id": "3ifKdkfDEjQA"
      }
    },
    {
      "cell_type": "markdown",
      "source": [
        "#### Những việc chưa làm được"
      ],
      "metadata": {
        "id": "j2TbtS8JFPHI"
      }
    },
    {
      "cell_type": "markdown",
      "source": [
        "- Vì còn rất nhiều cách để tối ưu hơn cho mô hình mà chưa sử dụng như stream ...\n",
        "- Mới chỉ dừng lại ở mức song song cơ bản và tối ưu cơ bản chưa có thể kết hợp chúng lại với nhau để tạo ra bản version hoàn thiện hơn"
      ],
      "metadata": {
        "id": "C696GhN5FTvQ"
      }
    },
    {
      "cell_type": "markdown",
      "source": [
        "#### Bước tiếp theo"
      ],
      "metadata": {
        "id": "ZSPLfbFOFzCl"
      }
    },
    {
      "cell_type": "markdown",
      "source": [
        "- Có thể nhóm chúng em sẽ nghiên cứu và làm thêm một vài version liên quan đến stream và kết nối giữa các kỹ thuật để tạo ra bản hoàn chỉnh nhất."
      ],
      "metadata": {
        "id": "UW0smm4XF4F7"
      }
    },
    {
      "cell_type": "markdown",
      "source": [
        "#### Những bước khó khăn khi làm đồ án"
      ],
      "metadata": {
        "id": "YnBLnj28GHqA"
      }
    },
    {
      "cell_type": "markdown",
      "source": [
        "- Khó khăn trong việc biên dịch chương trình\n",
        "- Ngoài ra còn những vấn đề liên quan đến thuật toán\n",
        "- Sử dụng colab quá hạn mức cũng là một nguyên nhân dẫn đến sự khó khăn trong test"
      ],
      "metadata": {
        "id": "q7c_gfpZGLXw"
      }
    }
  ]
}